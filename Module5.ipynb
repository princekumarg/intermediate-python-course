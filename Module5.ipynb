{
 "cells": [
  {
   "cell_type": "markdown",
   "id": "1f90f8dd",
   "metadata": {},
   "source": [
    "# Module5"
   ]
  },
  {
   "cell_type": "markdown",
   "id": "062695dd",
   "metadata": {},
   "source": [
    "## Module5"
   ]
  },
  {
   "cell_type": "markdown",
   "id": "a087cf6a",
   "metadata": {},
   "source": [
    "### All Python Libraries\n",
    "<ul>\n",
    "    <li>TensorFlow</li>\n",
    "    <li>Matplotlib</li>\n",
    "    <li>Pandas</li>\n",
    "    <li>Numpy</li>\n",
    "    <li>SciPy</li>\n",
    "    <li>Scikit-learn</li>\n",
    "    <li>PyTorch</li>\n",
    "</ul>"
   ]
  },
  {
   "cell_type": "markdown",
   "id": "c66aeb65",
   "metadata": {},
   "source": [
    "### All Data Science Language\n",
    "<li>R</li>\n",
    "<li>SQL</li>\n",
    "<li>Java</li>\n",
    "<li>Julia</li>\n",
    "<li>Scala</li>\n",
    "<li>JavaScript</li>\n",
    "<li>Swift</li>"
   ]
  },
  {
   "cell_type": "markdown",
   "id": "1f603461",
   "metadata": {},
   "source": [
    "### All Data Science Libraries\n",
    "<ul>\n",
    "    <li>TensorFlow</li>\n",
    "    <li>Matplotlib</li>\n",
    "    <li>Pandas</li>\n",
    "    <li>Numpy</li>\n",
    "    <li>SciPy</li>\n",
    "    <li>Scikit-learn</li>\n",
    "    <li>PyTorch</li>\n",
    "    <li>Keras</li>\n",
    "</ul>"
   ]
  },
  {
   "cell_type": "markdown",
   "id": "5cd4059c",
   "metadata": {},
   "source": [
    "### All Data Science Tools\n",
    "<li>RapidMiner</li>\n",
    "<li>Apache Spark</li>\n",
    "<li>KNIME</li>\n",
    "<li>TensorFlow</li>\n",
    "<li>Tableau</li>\n",
    "<li>MATLAB</li>\n",
    "<li>Weka</li>\n",
    "<li>Python</li>\n",
    "<li>Apache Hadoop</li>"
   ]
  },
  {
   "cell_type": "code",
   "execution_count": 2,
   "id": "ccf52cf1",
   "metadata": {},
   "outputs": [
    {
     "name": "stdout",
     "output_type": "stream",
     "text": [
      "11\n",
      "-1\n",
      "30\n",
      "0.8333333333333334\n"
     ]
    }
   ],
   "source": [
    "a=5\n",
    "b=6\n",
    "print(a+b)\n",
    "print(a-b)\n",
    "print(a*b)\n",
    "print(a/b)"
   ]
  },
  {
   "cell_type": "markdown",
   "id": "a0227d3b",
   "metadata": {},
   "source": [
    "# What is arthmetic expression\n",
    "<p>Arithmetic expressions are used as operands of certain conditional and arithmetic statements. An arithmetic expression can consist of any of the following items: An identifier described as a numeric elementary item (including numeric functions) A numeric literal. The figurative constant ZERO.</p>"
   ]
  },
  {
   "cell_type": "code",
   "execution_count": 3,
   "id": "bfa2be15",
   "metadata": {},
   "outputs": [
    {
     "name": "stdout",
     "output_type": "stream",
     "text": [
      "420\n"
     ]
    }
   ],
   "source": [
    "hr_to_min=60\n",
    "hr=7\n",
    "mint=hr*hr_to_min\n",
    "print(mint)"
   ]
  },
  {
   "cell_type": "markdown",
   "id": "3a3c0cf6",
   "metadata": {},
   "source": [
    "### Objectivies Of Data Science\n",
    "<ul>\n",
    "    <li>Collecting data</li>\n",
    "    <li>Processing data</li>\n",
    "    <li>Exploring and visualizing data</li>\n",
    "    <li>Analyzing (data) and/or applying machine learning (to data)</li>\n",
    "    <li>Deciding (or planning) based on acquired insight</li>\n",
    "</ul>"
   ]
  },
  {
   "cell_type": "markdown",
   "id": "5386ac82",
   "metadata": {},
   "source": [
    "# Hii,I am prince Kumar\n",
    "<p>The NoteBook Is authorized By prince Kumar</p>"
   ]
  },
  {
   "cell_type": "code",
   "execution_count": null,
   "id": "a55cca4b",
   "metadata": {},
   "outputs": [],
   "source": []
  }
 ],
 "metadata": {
  "kernelspec": {
   "display_name": "Python 3 (ipykernel)",
   "language": "python",
   "name": "python3"
  },
  "language_info": {
   "codemirror_mode": {
    "name": "ipython",
    "version": 3
   },
   "file_extension": ".py",
   "mimetype": "text/x-python",
   "name": "python",
   "nbconvert_exporter": "python",
   "pygments_lexer": "ipython3",
   "version": "3.10.9"
  }
 },
 "nbformat": 4,
 "nbformat_minor": 5
}
